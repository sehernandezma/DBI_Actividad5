{
 "cells": [
  {
   "cell_type": "markdown",
   "metadata": {},
   "source": [
    "# Actividad 5\n",
    "# Sebastián Hernández Mantilla"
   ]
  },
  {
   "cell_type": "code",
   "execution_count": 1,
   "metadata": {
    "id": "YDvG3-REgv5s"
   },
   "outputs": [],
   "source": [
    "import pandas as pd\n",
    "import numpy as np\n",
    "import matplotlib.pyplot as plt\n",
    "from datetime import datetime\n",
    "import warnings\n",
    "import seaborn as sns\n",
    "warnings.filterwarnings('ignore')"
   ]
  },
  {
   "cell_type": "code",
   "execution_count": 2,
   "metadata": {
    "colab": {
     "base_uri": "https://localhost:8080/",
     "height": 194
    },
    "id": "N8O5bo1TgzhX",
    "outputId": "80097171-fc04-478f-d559-7f73924bb34f",
    "scrolled": true
   },
   "outputs": [
    {
     "data": {
      "text/html": [
       "<div>\n",
       "<style scoped>\n",
       "    .dataframe tbody tr th:only-of-type {\n",
       "        vertical-align: middle;\n",
       "    }\n",
       "\n",
       "    .dataframe tbody tr th {\n",
       "        vertical-align: top;\n",
       "    }\n",
       "\n",
       "    .dataframe thead th {\n",
       "        text-align: right;\n",
       "    }\n",
       "</style>\n",
       "<table border=\"1\" class=\"dataframe\">\n",
       "  <thead>\n",
       "    <tr style=\"text-align: right;\">\n",
       "      <th></th>\n",
       "      <th>id_usuario</th>\n",
       "      <th>Calificadora</th>\n",
       "      <th>Correo</th>\n",
       "      <th>Fecha Consulta</th>\n",
       "      <th>Estado usuario</th>\n",
       "    </tr>\n",
       "  </thead>\n",
       "  <tbody>\n",
       "    <tr>\n",
       "      <th>0</th>\n",
       "      <td>c2290d89dfc4</td>\n",
       "      <td>Buró de Crédito</td>\n",
       "      <td>gmail.com</td>\n",
       "      <td>19/01/21 9:20</td>\n",
       "      <td>ACTIVO</td>\n",
       "    </tr>\n",
       "    <tr>\n",
       "      <th>1</th>\n",
       "      <td>8d24ef1d52d8</td>\n",
       "      <td>Buró de Crédito</td>\n",
       "      <td>gmail.com</td>\n",
       "      <td>19/01/21 8:28</td>\n",
       "      <td>ACTIVO</td>\n",
       "    </tr>\n",
       "    <tr>\n",
       "      <th>2</th>\n",
       "      <td>a5120d2c47fa</td>\n",
       "      <td>Buró de Crédito</td>\n",
       "      <td>gmail.com</td>\n",
       "      <td>17/01/21 13:36</td>\n",
       "      <td>ACTIVO</td>\n",
       "    </tr>\n",
       "    <tr>\n",
       "      <th>3</th>\n",
       "      <td>5a5d70893606</td>\n",
       "      <td>Buró de Crédito</td>\n",
       "      <td>edubc.mx</td>\n",
       "      <td>20/01/21 9:27</td>\n",
       "      <td>ACTIVO</td>\n",
       "    </tr>\n",
       "    <tr>\n",
       "      <th>4</th>\n",
       "      <td>4a2082948031</td>\n",
       "      <td>Buró de Crédito</td>\n",
       "      <td>gmail.com</td>\n",
       "      <td>21/01/21 14:26</td>\n",
       "      <td>ACTIVO</td>\n",
       "    </tr>\n",
       "  </tbody>\n",
       "</table>\n",
       "</div>"
      ],
      "text/plain": [
       "     id_usuario     Calificadora     Correo  Fecha Consulta Estado usuario\n",
       "0  c2290d89dfc4  Buró de Crédito  gmail.com   19/01/21 9:20         ACTIVO\n",
       "1  8d24ef1d52d8  Buró de Crédito  gmail.com   19/01/21 8:28         ACTIVO\n",
       "2  a5120d2c47fa  Buró de Crédito  gmail.com  17/01/21 13:36         ACTIVO\n",
       "3  5a5d70893606  Buró de Crédito   edubc.mx   20/01/21 9:27         ACTIVO\n",
       "4  4a2082948031  Buró de Crédito  gmail.com  21/01/21 14:26         ACTIVO"
      ]
     },
     "execution_count": 2,
     "metadata": {},
     "output_type": "execute_result"
    }
   ],
   "source": [
    "# se lee el archivo\n",
    "df = pd.read_csv(r'C:\\Users\\Sebastian Hernandez\\Especializacion\\Semestre2\\Decisiones_incertidumbre\\practicas\\Actividad5\\entrega\\datos_horas_conexion.csv',';')\n",
    "# se eliminan las variables con Nan\n",
    "df.dropna(inplace=True)\n",
    "\n",
    "df.head()"
   ]
  },
  {
   "cell_type": "markdown",
   "metadata": {},
   "source": [
    "## Análisis por columnas"
   ]
  },
  {
   "cell_type": "markdown",
   "metadata": {},
   "source": [
    "### Estado usuario"
   ]
  },
  {
   "cell_type": "code",
   "execution_count": 25,
   "metadata": {},
   "outputs": [
    {
     "name": "stdout",
     "output_type": "stream",
     "text": [
      "Se describe la columna: \n",
      "count       4003\n",
      "unique         3\n",
      "top       ACTIVO\n",
      "Name: Estado usuario, dtype: object\n",
      "\n",
      "Se imprime la lista de valores únicos de la columna:\n",
      "['ACTIVO' 'SIN VALIDAR' 'DESACTIVADO']\n"
     ]
    }
   ],
   "source": [
    "print('Se describe la columna: '+ '\\n' + str(df['Estado usuario'].describe()[0:-1]) + '\\n')\n",
    "print('Se imprime la lista de valores únicos de la columna:' + '\\n' + str(df['Estado usuario'].unique()))"
   ]
  },
  {
   "cell_type": "markdown",
   "metadata": {},
   "source": [
    "#### La columna de estado tiene 3 valores únicos,('ACTIVO','DESACTIVADO','SIN VALIDAR'), se infiere que los usuarios con estado activo estan usando los servicios de la empresa "
   ]
  },
  {
   "cell_type": "markdown",
   "metadata": {},
   "source": [
    "### Calificadora"
   ]
  },
  {
   "cell_type": "code",
   "execution_count": 3,
   "metadata": {
    "scrolled": false
   },
   "outputs": [
    {
     "name": "stdout",
     "output_type": "stream",
     "text": [
      "Se describe la columna: \n",
      "count                4003\n",
      "unique                  1\n",
      "top       Buró de Crédito\n",
      "Name: Calificadora, dtype: object\n",
      "\n",
      "Se imprime la lista de valores únicos de la columna:\n",
      "['Buró de Crédito']\n"
     ]
    }
   ],
   "source": [
    "print('Se describe la columna: '+ '\\n' + str(df['Calificadora'].describe()[0:-1]) + '\\n')\n",
    "print('Se imprime la lista de valores únicos de la columna:' + '\\n' + str(df['Calificadora'].unique()))"
   ]
  },
  {
   "cell_type": "code",
   "execution_count": 4,
   "metadata": {},
   "outputs": [],
   "source": [
    "df.drop('Calificadora',axis=1,inplace = True)"
   ]
  },
  {
   "cell_type": "markdown",
   "metadata": {},
   "source": [
    "#### todos los registros tienen el mismo valor en esta columna, por este motivo no se toma en cuenta en el resto del análisis"
   ]
  },
  {
   "cell_type": "markdown",
   "metadata": {},
   "source": [
    "### Correo"
   ]
  },
  {
   "cell_type": "markdown",
   "metadata": {},
   "source": [
    "#### En la columna de correos se encontraron muchos mal escritos, para cambiarlos se utiliza la librería fuzzywuzzy para encontrar strings similares a los corres más repetidos"
   ]
  },
  {
   "cell_type": "code",
   "execution_count": 5,
   "metadata": {
    "scrolled": false
   },
   "outputs": [
    {
     "data": {
      "text/plain": [
       "array(['gmail.com', 'edubc.mx', 'oitlook.com', 'hotmail.com',\n",
       "       'hotmail.es', 'outlook.com', 'gmail.comma', 'yahoo.com.mx',\n",
       "       'gmail.Com', 'me.com', 'live.com.mx', 'gmail.com.mx',\n",
       "       'ittepic.edu.mx', 'sohe95.com', 'multiva.com.mx', 'hotmai.com',\n",
       "       'avantservices.com.mx', 'icloud.com', 'yahoo.com', 'live.com',\n",
       "       'liverpool.com.mx', 'gmeil.com', 'GMAIL.COM', 'telefonica.com',\n",
       "       'msn.com', 'gmail.comlaura', 'outlook.con', 'outlook.es',\n",
       "       'hotmil.com', 'mail.ru', 'hormail.com', 'hotmail.comRICARDO',\n",
       "       'g2telecom.com.mx', 'hotmail.con', 'hotmail.com.mx', 'gmail.con',\n",
       "       'mail.com', 'mx.ey.com', 'saetowers.com.mx', '5675gmail.com',\n",
       "       'tec.mx', 'gmail.comsagrario', 'hotmaol.com', 'gotmail.com',\n",
       "       'yomax.com.mx', 'suramexico.com', 'g.conai.com', 'hitmail.com',\n",
       "       'g.mail.com.mx', 'exatec.tec.mx', 'jotmail.com', 'gitsmfg.com',\n",
       "       'sermatel.mx', 'prodigy.net.mx', 'outlook.coma', 'gmal.com',\n",
       "       'gmai.com', '13gmail.com', 'g.mai.com', 'bbva.com', 'gamil.com',\n",
       "       'madisa.com', 'GMAIL.com', '2473gmail.com',\n",
       "       'hutchinson-seal-mexico.com', 'gmail.coml', 'olxautos.com',\n",
       "       'gnail.com', 'gmil.com', 'osiux.ws', 'yansa.com.mx',\n",
       "       'aefcm.nuevaescuela.mx', 'hatmail.com', 'MSN.COM', 'gimail.com',\n",
       "       'HOTMAIL.COM', 'ymail.com', 'prodyaut.com', 'cfe.mx',\n",
       "       'Hotmail.com', 'gmail.co.com', 'guanajuato.gob.mzx', 'live.co.uk',\n",
       "       'riconsa.com', '232gmail.com', 'gmail.comcom', '1982gmail.com',\n",
       "       'hotmail.Com', 'gmaim.com', 'hot.mail.com', 'occidente.edu.mx',\n",
       "       'outlok.es', 'test.com'], dtype=object)"
      ]
     },
     "execution_count": 5,
     "metadata": {},
     "output_type": "execute_result"
    }
   ],
   "source": [
    "df['Correo'].unique()"
   ]
  },
  {
   "cell_type": "code",
   "execution_count": 6,
   "metadata": {
    "scrolled": true
   },
   "outputs": [],
   "source": [
    "from fuzzywuzzy import fuzz\n",
    "#df1=df\n",
    "df['Correo'] = df['Correo'].apply(lambda x: 'gmail.com' if (fuzz.ratio('gmail.com',x.lower()) > 80)   else x)\n",
    "df['Correo'] = df['Correo'].apply(lambda x: 'hotmail.com' if (fuzz.ratio('hotmail.com',x.lower()) > 80)  else x )\n",
    "df['Correo'] = df['Correo'].apply(lambda x: 'outlook.com' if (fuzz.ratio('outlook.com',x.lower()) > 70)   else x)"
   ]
  },
  {
   "cell_type": "code",
   "execution_count": 7,
   "metadata": {},
   "outputs": [
    {
     "data": {
      "text/plain": [
       "array(['gmail.com', 'edubc.mx', 'outlook.com', 'hotmail.com',\n",
       "       'hotmail.es', 'yahoo.com.mx', 'me.com', 'live.com.mx',\n",
       "       'ittepic.edu.mx', 'sohe95.com', 'multiva.com.mx',\n",
       "       'avantservices.com.mx', 'icloud.com', 'yahoo.com', 'live.com',\n",
       "       'liverpool.com.mx', 'telefonica.com', 'msn.com', 'gmail.comlaura',\n",
       "       'mail.ru', 'hotmail.comRICARDO', 'g2telecom.com.mx', 'mx.ey.com',\n",
       "       'saetowers.com.mx', 'tec.mx', 'gmail.comsagrario', 'yomax.com.mx',\n",
       "       'suramexico.com', 'g.conai.com', 'exatec.tec.mx', 'gitsmfg.com',\n",
       "       'sermatel.mx', 'prodigy.net.mx', 'bbva.com', 'madisa.com',\n",
       "       'hutchinson-seal-mexico.com', 'olxautos.com', 'osiux.ws',\n",
       "       'yansa.com.mx', 'aefcm.nuevaescuela.mx', 'MSN.COM', 'prodyaut.com',\n",
       "       'cfe.mx', 'guanajuato.gob.mzx', 'live.co.uk', 'riconsa.com',\n",
       "       'occidente.edu.mx', 'outlok.es', 'test.com'], dtype=object)"
      ]
     },
     "execution_count": 7,
     "metadata": {},
     "output_type": "execute_result"
    }
   ],
   "source": [
    "df['Correo'].unique()"
   ]
  },
  {
   "cell_type": "markdown",
   "metadata": {},
   "source": [
    "#### Se cambian manualmente los restantes"
   ]
  },
  {
   "cell_type": "code",
   "execution_count": 8,
   "metadata": {},
   "outputs": [],
   "source": [
    "df['Correo'] = df['Correo'].apply(lambda x: 'gmail.com' if ('gmail.comsagrario' == x or 'gmail.comlaura' == x)   else x)\n",
    "df['Correo'] = df['Correo'].apply(lambda x: 'outlook.com' if ('outlok.es' == x )   else x)\n",
    "df['Correo'] = df['Correo'].apply(lambda x: 'hotmail.com' if ('hotmail.comRICARD' == x or 'hotmail.es' == x)   else x)"
   ]
  },
  {
   "cell_type": "code",
   "execution_count": null,
   "metadata": {},
   "outputs": [],
   "source": [
    "#fig, axs = plt.subplots(1,3)\n",
    "fig, (ax1,ax2,ax3) = plt.subplots(1,3,figsize=(15,15))\n",
    "\n",
    "count11 = df[df['Estado usuario'] == 'ACTIVO'][df['Correo'] == 'gmail.com'].count()[0]\n",
    "count12 = df[df['Estado usuario'] == 'ACTIVO'][df['Correo'] == 'hotmail.com'].count()[0]\n",
    "count13 = df[df['Estado usuario'] == 'ACTIVO'][df['Correo'] != 'gmail.com'][df['Correo'] != 'hotmail.com'].count()[0]\n",
    "\n",
    "y1 = np.array([count11,count12,count13])\n",
    "labels = ['gmail','hotmail','otro']\n",
    "myexplode = [0.2, 0, 0]\n",
    "ax1.pie(y1, labels = labels, explode = myexplode, shadow = True, autopct='%1.0f%%')\n",
    "ax1.set_title(label='Usuarios Activos')\n",
    "\n",
    "count21 = df[df['Estado usuario'] == 'SIN VALIDAR'][df['Correo'] == 'gmail.com'].count()[0]\n",
    "count22 = df[df['Estado usuario'] == 'SIN VALIDAR'][df['Correo'] == 'hotmail.com'].count()[0]\n",
    "count23 = df[df['Estado usuario'] == 'SIN VALIDAR'][df['Correo'] != 'gmail.com'][df['Correo'] != 'hotmail.com'].count()[0]\n",
    "\n",
    "y2 = np.array([count21,count22,count23])\n",
    "labels = ['gmail','hotmail','otro']\n",
    "myexplode = [0.2, 0, 0]\n",
    "ax2.pie(y2, labels = labels, explode = myexplode, shadow = True, autopct='%1.0f%%')\n",
    "ax2.set_title('Usuarios Sin Validar')\n",
    "\n",
    "count31 = df[df['Estado usuario'] == 'DESACTIVADO'][df['Correo'] == 'gmail.com'].count()[0]\n",
    "count32 = df[df['Estado usuario'] == 'DESACTIVADO'][df['Correo'] == 'hotmail.com'].count()[0]\n",
    "count33 = df[df['Estado usuario'] == 'DESACTIVADO'][df['Correo'] != 'gmail.com'][df['Correo'] != 'hotmail.com'].count()[0]\n",
    "\n",
    "y3 = np.array([count31,count32,count33])\n",
    "labels = ['gmail','hotmail','otro']\n",
    "myexplode = [0.2, 0, 0]\n",
    "ax3.pie(y3, labels = labels, explode = myexplode, shadow = True, autopct='%1.0f%%')\n",
    "ax3.set_title('Usuarios Desactivados')\n",
    "plt.show() \n"
   ]
  },
  {
   "cell_type": "markdown",
   "metadata": {},
   "source": [
    "![](imagenes/Captura.PNG)"
   ]
  },
  {
   "cell_type": "markdown",
   "metadata": {},
   "source": [
    "#### Se encontró que la distribución de correos es muy parecida para los valores de la columna de Estado"
   ]
  },
  {
   "cell_type": "markdown",
   "metadata": {},
   "source": [
    "### id_usuario"
   ]
  },
  {
   "cell_type": "code",
   "execution_count": 10,
   "metadata": {},
   "outputs": [
    {
     "name": "stdout",
     "output_type": "stream",
     "text": [
      "Se describe la columna: \n",
      "count             4003\n",
      "unique            3679\n",
      "top       fdcc844fb3b0\n",
      "Name: id_usuario, dtype: object\n",
      "\n"
     ]
    }
   ],
   "source": [
    "print('Se describe la columna: '+ '\\n' + str(df['id_usuario'].describe()[0:-1]) + '\\n')"
   ]
  },
  {
   "cell_type": "markdown",
   "metadata": {},
   "source": [
    "#### Se encuentra que el número de valores únicos es menor al número total de registros, esto quiere decir que existen usuarios repetidos"
   ]
  },
  {
   "cell_type": "code",
   "execution_count": 11,
   "metadata": {},
   "outputs": [
    {
     "data": {
      "text/plain": [
       "array(['a7b8edae9a16', '4b636433f200', 'c5730eda6be5', '091830ac5256',\n",
       "       'fdcc844fb3b0', '27bcd31c20cd', '016ab04dc28a', '098a49e27edf',\n",
       "       '336f7dfee491', 'b3f39805ee31', '4bca80b4c377', '399d8477c401'],\n",
       "      dtype=object)"
      ]
     },
     "execution_count": 11,
     "metadata": {},
     "output_type": "execute_result"
    }
   ],
   "source": [
    "usuarios = df[df.duplicated(['id_usuario'])]\n",
    "usuarios['id_usuario'].unique()"
   ]
  },
  {
   "cell_type": "code",
   "execution_count": 12,
   "metadata": {},
   "outputs": [
    {
     "data": {
      "text/plain": [
       "SIN VALIDAR    323\n",
       "DESACTIVADO      1\n",
       "Name: Estado usuario, dtype: int64"
      ]
     },
     "execution_count": 12,
     "metadata": {},
     "output_type": "execute_result"
    }
   ],
   "source": [
    "usuarios['Estado usuario'].value_counts()"
   ]
  },
  {
   "cell_type": "markdown",
   "metadata": {},
   "source": [
    "#### Todos los registros con estado 'SIN VALIDAR' son de usuarios repetidos"
   ]
  },
  {
   "cell_type": "markdown",
   "metadata": {},
   "source": [
    "### Fecha Consulta"
   ]
  },
  {
   "cell_type": "markdown",
   "metadata": {},
   "source": [
    "#### Se divide la fecha en año, mes, día y hora"
   ]
  },
  {
   "cell_type": "code",
   "execution_count": 13,
   "metadata": {},
   "outputs": [],
   "source": [
    "df1 = df.copy()# se añade esta linea para que la siguiente celda se pueda correr mas de 1 vez"
   ]
  },
  {
   "cell_type": "code",
   "execution_count": 14,
   "metadata": {},
   "outputs": [],
   "source": [
    "df['Fecha Consulta'] = df1['Fecha Consulta'].apply(lambda x: datetime.strptime(x, \"%d/%m/%y %H:%M\") )\n",
    "\n",
    "df['ano'] = df['Fecha Consulta'].apply(lambda x: x.year)\n",
    "df['mes'] = df['Fecha Consulta'].apply(lambda x: x.month)\n",
    "dicc = {'0':'Lunes','1':'Martes','2':'Miercoles','3':'Jueves','4':'Viernes','5':'Sabado','6':'Domingo'} \n",
    "df['dia'] = df['Fecha Consulta'].apply(lambda x: dicc[str(x.weekday())] )\n",
    "df['hora'] = df['Fecha Consulta'].apply(lambda x: x.hour)"
   ]
  },
  {
   "cell_type": "markdown",
   "metadata": {},
   "source": [
    "#### La mayoría de los registros fueron tomados en enero del 2021 (3872 registros), el resto se tomaron en diciembre del 2020 (131 registros)"
   ]
  },
  {
   "cell_type": "code",
   "execution_count": null,
   "metadata": {},
   "outputs": [],
   "source": [
    "fig, ax1 = plt.subplots(figsize=(8,7))\n",
    "#df[df['Estado usuario']=='ACTIVO'].groupby(['dia'])['Estado usuario'].value_counts().unstack(0).plot.bar(figsize=(7,5),zorder=100)\n",
    "\n",
    "ax1.bar(['Lunes','Martes','Miercoles','Jueves','Viernes','Sabado','Domingo'],np.array([df[df['dia']=='Lunes'].count()[0],df[df['dia']=='Martes'].count()[0],df[df['dia']=='Miercoles'].count()[0],df[df['dia']=='Jueves'].count()[0],df[df['dia']=='Viernes'].count()[0],df[df['dia']=='Sabado'].count()[0],df[df['dia']=='Domingo'].count()[0]]))\n",
    "ax1.grid(False)\n",
    "#ax1.bar(['Lunes','Martes','Miercoles','Jueves','Viernes','Sabado','Domingo'],np.array([df[df['dia']=='Lunes'].count()[0],df[df['dia']=='Martes'].count()[0],df[df['dia']=='Miercoles'].count()[0],df[df['dia']=='Jueves'].count()[0],df[df['dia']=='Viernes'].count()[0],df[df['dia']=='Sabado'].count()[0],df[df['dia']=='Domingo'].count()[0]]))\n"
   ]
  },
  {
   "cell_type": "markdown",
   "metadata": {},
   "source": [
    "![](imagenes/Captura1.PNG)"
   ]
  },
  {
   "cell_type": "markdown",
   "metadata": {},
   "source": [
    "#### Se usa las librerias chi2 y chi2_contengency para aplicar una prueba chi_squared con el fin de evaluar si la columna del estado del usuario es dependiente del día de la semana en que el usuario hizo la consulta "
   ]
  },
  {
   "cell_type": "code",
   "execution_count": 16,
   "metadata": {},
   "outputs": [
    {
     "name": "stdout",
     "output_type": "stream",
     "text": [
      "Dependent (reject H0)\n",
      "Dependientes (invalida H0)\n"
     ]
    }
   ],
   "source": [
    "from scipy.stats import chi2_contingency\n",
    "from scipy.stats import chi2\n",
    "\n",
    "A_Lunes = df[df['Estado usuario']=='ACTIVO'][df[df['Estado usuario']=='ACTIVO']['dia'] == 'Lunes'].count()[0]\n",
    "A_Martes = df[df['Estado usuario']=='ACTIVO'][df[df['Estado usuario']=='ACTIVO']['dia'] == 'Martes'].count()[0]\n",
    "A_Miercoles = df[df['Estado usuario']=='ACTIVO'][df[df['Estado usuario']=='ACTIVO']['dia'] == 'Miercoles'].count()[0]\n",
    "A_Jueves = df[df['Estado usuario']=='ACTIVO'][df[df['Estado usuario']=='ACTIVO']['dia'] == 'Jueves'].count()[0]\n",
    "A_Viernes = df[df['Estado usuario']=='ACTIVO'][df[df['Estado usuario']=='ACTIVO']['dia'] == 'Viernes'].count()[0]\n",
    "A_Sabado = df[df['Estado usuario']=='ACTIVO'][df[df['Estado usuario']=='ACTIVO']['dia'] == 'Sabado'].count()[0]\n",
    "A_Domingo = df[df['Estado usuario']=='ACTIVO'][df[df['Estado usuario']=='ACTIVO']['dia'] == 'Domingo'].count()[0]\n",
    "A_T = A_Lunes+A_Martes+A_Miercoles+A_Jueves+A_Viernes+A_Sabado+A_Domingo\n",
    "\n",
    "\n",
    "D_Lunes = df[df['Estado usuario']=='DESACTIVADO'][df[df['Estado usuario']=='DESACTIVADO']['dia'] == 'Lunes'].count()[0]\n",
    "D_Martes = df[df['Estado usuario']=='DESACTIVADO'][df[df['Estado usuario']=='DESACTIVADO']['dia'] == 'Martes'].count()[0]\n",
    "D_Miercoles = df[df['Estado usuario']=='DESACTIVADO'][df[df['Estado usuario']=='DESACTIVADO']['dia'] == 'Miercoles'].count()[0]\n",
    "D_Jueves = df[df['Estado usuario']=='DESACTIVADO'][df[df['Estado usuario']=='DESACTIVADO']['dia'] == 'Jueves'].count()[0]\n",
    "D_Viernes = df[df['Estado usuario']=='DESACTIVADO'][df[df['Estado usuario']=='DESACTIVADO']['dia'] == 'Viernes'].count()[0]\n",
    "D_Sabado = df[df['Estado usuario']=='DESACTIVADO'][df[df['Estado usuario']=='DESACTIVADO']['dia'] == 'Sabado'].count()[0]\n",
    "D_Domingo = df[df['Estado usuario']=='DESACTIVADO'][df[df['Estado usuario']=='DESACTIVADO']['dia'] == 'Domingo'].count()[0]\n",
    "D_T = D_Lunes+D_Martes+D_Miercoles+D_Jueves+D_Viernes+D_Sabado+D_Domingo\n",
    "\n",
    "\n",
    "SV_Lunes = df[df['Estado usuario']=='SIN VALIDAR'][df[df['Estado usuario']=='SIN VALIDAR']['dia'] == 'Lunes'].count()[0]\n",
    "SV_Martes = df[df['Estado usuario']=='SIN VALIDAR'][df[df['Estado usuario']=='SIN VALIDAR']['dia'] == 'Martes'].count()[0]\n",
    "SV_Miercoles = df[df['Estado usuario']=='SIN VALIDAR'][df[df['Estado usuario']=='SIN VALIDAR']['dia'] == 'Miercoles'].count()[0]\n",
    "SV_Jueves = df[df['Estado usuario']=='SIN VALIDAR'][df[df['Estado usuario']=='SIN VALIDAR']['dia'] == 'Jueves'].count()[0]\n",
    "SV_Viernes = df[df['Estado usuario']=='SIN VALIDAR'][df[df['Estado usuario']=='SIN VALIDAR']['dia'] == 'Viernes'].count()[0]\n",
    "SV_Sabado = df[df['Estado usuario']=='SIN VALIDAR'][df[df['Estado usuario']=='SIN VALIDAR']['dia'] == 'Sabado'].count()[0]\n",
    "SV_Domingo = df[df['Estado usuario']=='SIN VALIDAR'][df[df['Estado usuario']=='SIN VALIDAR']['dia'] == 'Domingo'].count()[0]\n",
    "SV_T = SV_Lunes+SV_Martes+SV_Miercoles+SV_Jueves+SV_Viernes+SV_Sabado+SV_Domingo\n",
    "SV_T2 = SV_Martes+SV_Miercoles\n",
    "\n",
    "T_L = A_Lunes+D_Lunes+SV_Lunes\n",
    "T_M = A_Martes+D_Martes+SV_Martes\n",
    "T_W = A_Miercoles+D_Miercoles+SV_Miercoles\n",
    "T_J = A_Jueves+D_Jueves+SV_Jueves\n",
    "T_V = A_Viernes+D_Viernes+SV_Viernes\n",
    "T_S = A_Sabado+D_Sabado+SV_Sabado\n",
    "T_D = A_Domingo+D_Domingo+SV_Domingo\n",
    "\n",
    "tabla = [[A_Martes,D_Martes,SV_Martes,T_M],\n",
    "         [A_Miercoles,D_Miercoles,SV_Miercoles,T_W],\n",
    "            ]\n",
    "\n",
    "tabla_c = [[A_Lunes,D_Lunes,SV_Lunes,T_L],\n",
    "           [A_Martes,D_Martes,SV_Martes,T_M],\n",
    "           [A_Miercoles,D_Miercoles,SV_Miercoles,T_W],\n",
    "           [A_Jueves,D_Jueves,SV_Jueves,T_J],\n",
    "           [A_Viernes,D_Viernes,SV_Viernes,T_V],\n",
    "           [A_Sabado,D_Sabado,SV_Sabado,T_S],\n",
    "           [A_Domingo,D_Domingo,SV_Domingo,T_D]]\n",
    "\n",
    "stat, p, dof, expected = chi2_contingency(tabla_c)\n",
    "\n",
    "critical = chi2.ppf(0.95, dof)\n",
    "\n",
    "alpha=0.05\n",
    "if abs(stat) >= critical:\n",
    "    print('Dependent (reject H0)')\n",
    "else:\n",
    "    print('Independent (fail to reject H0)')\n",
    "# la hipotesis H0 asume que no hay ninguna relación entre las dos variables \n",
    "if p <= alpha:\n",
    "    print('Dependientes (invalida H0)')\n",
    "else:\n",
    "    print('Independientes (no invalida H0)')"
   ]
  },
  {
   "cell_type": "markdown",
   "metadata": {},
   "source": [
    "#### Se hace lo mismo para las horas: se divide la hora en 6 grupos de 4 horas y se testea la correlación que tiene con la columna de estado "
   ]
  },
  {
   "cell_type": "code",
   "execution_count": null,
   "metadata": {},
   "outputs": [],
   "source": [
    "fig, ax1 = plt.subplots(figsize=(8,7))\n",
    "#df[df['Estado usuario']=='ACTIVO'].groupby(['dia'])['Estado usuario'].value_counts().unstack(0).plot.bar(figsize=(7,5),zorder=100)\n",
    "\n",
    "ax1.bar(['0-4','4-8','8-12','12-16','16-20','20-24'],np.array([df[df['hora']=='0-4'].count()[0],df[df['hora']=='4-8'].count()[0],df[df['hora']=='8-12'].count()[0],df[df['hora']=='12-16'].count()[0],df[df['hora']=='16-20'].count()[0],df[df['hora']=='20-24'].count()[0]]))\n",
    "ax1.grid(False)"
   ]
  },
  {
   "cell_type": "markdown",
   "metadata": {},
   "source": [
    "![](imagenes/Captura2.PNG)"
   ]
  },
  {
   "cell_type": "code",
   "execution_count": 17,
   "metadata": {},
   "outputs": [
    {
     "name": "stdout",
     "output_type": "stream",
     "text": [
      "Dependent (reject H0)\n",
      "Dependientes (invalida H0)\n"
     ]
    }
   ],
   "source": [
    "df['hora'] = df['hora'].apply(lambda x : '0-4' if ( 0 <= x < 4) else ( '4-8' if ( 4 <= x < 8) else ('8-12' if (8 <= x <12) else ('12-16' if (12 <= x < 16) else('16-20' if (16 <= x <20) else ('20-24'))))))\n",
    "\n",
    "A_04 = df[df['Estado usuario']=='ACTIVO'][df[df['Estado usuario']=='ACTIVO']['hora'] == '0-4'].count()[0]\n",
    "A_48 = df[df['Estado usuario']=='ACTIVO'][df[df['Estado usuario']=='ACTIVO']['hora'] == '4-8'].count()[0]\n",
    "A_812 = df[df['Estado usuario']=='ACTIVO'][df[df['Estado usuario']=='ACTIVO']['hora'] == '8-12'].count()[0]\n",
    "A_1216 = df[df['Estado usuario']=='ACTIVO'][df[df['Estado usuario']=='ACTIVO']['hora'] == '12-16'].count()[0]\n",
    "A_1620 = df[df['Estado usuario']=='ACTIVO'][df[df['Estado usuario']=='ACTIVO']['hora'] == '16-20'].count()[0]\n",
    "A_2024 = df[df['Estado usuario']=='ACTIVO'][df[df['Estado usuario']=='ACTIVO']['hora'] == '20-24'].count()[0]\n",
    "\n",
    "D_04 = df[df['Estado usuario']=='DESACTIVADO'][df[df['Estado usuario']=='DESACTIVADO']['hora'] == '0-4'].count()[0]\n",
    "D_48 = df[df['Estado usuario']=='DESACTIVADO'][df[df['Estado usuario']=='DESACTIVADO']['hora'] == '4-8'].count()[0]\n",
    "D_812 = df[df['Estado usuario']=='DESACTIVADO'][df[df['Estado usuario']=='DESACTIVADO']['hora'] == '8-12'].count()[0]\n",
    "D_1216 = df[df['Estado usuario']=='DESACTIVADO'][df[df['Estado usuario']=='DESACTIVADO']['hora'] == '12-16'].count()[0]\n",
    "D_1620 = df[df['Estado usuario']=='DESACTIVADO'][df[df['Estado usuario']=='DESACTIVADO']['hora'] == '16-20'].count()[0]\n",
    "D_2024 = df[df['Estado usuario']=='DESACTIVADO'][df[df['Estado usuario']=='DESACTIVADO']['hora'] == '20-24'].count()[0]\n",
    "\n",
    "SV_04 = df[df['Estado usuario']=='SIN VALIDAR'][df[df['Estado usuario']=='SIN VALIDAR']['hora'] == '0-4'].count()[0]\n",
    "SV_48 = df[df['Estado usuario']=='SIN VALIDAR'][df[df['Estado usuario']=='SIN VALIDAR']['hora'] == '4-8'].count()[0]\n",
    "SV_812 = df[df['Estado usuario']=='SIN VALIDAR'][df[df['Estado usuario']=='SIN VALIDAR']['hora'] == '8-12'].count()[0]\n",
    "SV_1216 = df[df['Estado usuario']=='SIN VALIDAR'][df[df['Estado usuario']=='SIN VALIDAR']['hora'] == '12-16'].count()[0]\n",
    "SV_1620 = df[df['Estado usuario']=='SIN VALIDAR'][df[df['Estado usuario']=='SIN VALIDAR']['hora'] == '16-20'].count()[0]\n",
    "SV_2024 = df[df['Estado usuario']=='SIN VALIDAR'][df[df['Estado usuario']=='SIN VALIDAR']['hora'] == '20-24'].count()[0]\n",
    "\n",
    "T_04 = A_04+D_04+SV_04\n",
    "T_48 = A_48+D_48+SV_48\n",
    "T_812 = A_812+D_812+SV_812\n",
    "T_1216 = A_1216+D_1216+SV_1216\n",
    "T_1620 = A_1620+D_1620+SV_1620\n",
    "T_2024 = A_2024+D_2024+SV_2024\n",
    "\n",
    "tabla_c = [[A_04,D_04,SV_04,T_04],\n",
    "           [A_48,D_48,SV_48,T_48],\n",
    "           [A_812,D_812,SV_812,T_812],\n",
    "           [A_1216,D_1216,SV_1216,T_1216],\n",
    "           [A_1620,D_1620,SV_1620,T_1620],\n",
    "           [A_2024,D_2024,SV_2024,T_2024]]\n",
    "\n",
    "stat, p, dof, expected = chi2_contingency(tabla_c)\n",
    "\n",
    "critical = chi2.ppf(0.95, dof)\n",
    "\n",
    "alpha=0.05\n",
    "if abs(stat) >= critical:\n",
    "    print('Dependent (reject H0)')\n",
    "else:\n",
    "    print('Independent (fail to reject H0)')\n",
    "# la hipotesis H0 asume que no hay ninguna relación entre las dos variables \n",
    "if p <= alpha:\n",
    "    print('Dependientes (invalida H0)')\n",
    "else:\n",
    "    print('Independientes (no invalida H0)')"
   ]
  },
  {
   "cell_type": "markdown",
   "metadata": {},
   "source": [
    "#### Se encontró que la columna del estado del usuario depende del día y la hora de consulta, la combinación de día y hora con mayor frecuencia es martes de las 20 a las 24 "
   ]
  },
  {
   "cell_type": "markdown",
   "metadata": {},
   "source": [
    "### Bibliografía"
   ]
  },
  {
   "cell_type": "markdown",
   "metadata": {},
   "source": [
    "- https://machinelearningmastery.com/chi-squared-test-for-machine-learning/\n",
    "- https://www.w3schools.com/python/matplotlib_pie_charts.asp"
   ]
  },
  {
   "cell_type": "code",
   "execution_count": null,
   "metadata": {},
   "outputs": [],
   "source": []
  }
 ],
 "metadata": {
  "colab": {
   "collapsed_sections": [],
   "name": "Untitled9.ipynb",
   "provenance": []
  },
  "kernelspec": {
   "display_name": "Python 3",
   "language": "python",
   "name": "python3"
  },
  "language_info": {
   "codemirror_mode": {
    "name": "ipython",
    "version": 3
   },
   "file_extension": ".py",
   "mimetype": "text/x-python",
   "name": "python",
   "nbconvert_exporter": "python",
   "pygments_lexer": "ipython3",
   "version": "3.8.3"
  }
 },
 "nbformat": 4,
 "nbformat_minor": 1
}
