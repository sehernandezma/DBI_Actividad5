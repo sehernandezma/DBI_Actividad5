{
 "cells": [
  {
   "cell_type": "markdown",
   "metadata": {},
   "source": [
    "# Actividad 5\n",
    "# Sebastián Hernández Mantilla"
   ]
  },
  {
   "cell_type": "code",
   "execution_count": 32,
   "metadata": {
    "id": "YDvG3-REgv5s"
   },
   "outputs": [],
   "source": [
    "import pandas as pd\n",
    "import numpy as np\n",
    "import matplotlib.pyplot as plt\n"
   ]
  },
  {
   "cell_type": "code",
   "execution_count": 33,
   "metadata": {
    "colab": {
     "base_uri": "https://localhost:8080/",
     "height": 194
    },
    "id": "N8O5bo1TgzhX",
    "outputId": "80097171-fc04-478f-d559-7f73924bb34f"
   },
   "outputs": [
    {
     "data": {
      "text/html": [
       "<div>\n",
       "<style scoped>\n",
       "    .dataframe tbody tr th:only-of-type {\n",
       "        vertical-align: middle;\n",
       "    }\n",
       "\n",
       "    .dataframe tbody tr th {\n",
       "        vertical-align: top;\n",
       "    }\n",
       "\n",
       "    .dataframe thead th {\n",
       "        text-align: right;\n",
       "    }\n",
       "</style>\n",
       "<table border=\"1\" class=\"dataframe\">\n",
       "  <thead>\n",
       "    <tr style=\"text-align: right;\">\n",
       "      <th></th>\n",
       "      <th>id_usuario</th>\n",
       "      <th>Calificadora</th>\n",
       "      <th>Correo</th>\n",
       "      <th>Fecha Consulta</th>\n",
       "      <th>Estado usuario</th>\n",
       "    </tr>\n",
       "  </thead>\n",
       "  <tbody>\n",
       "    <tr>\n",
       "      <th>0</th>\n",
       "      <td>c2290d89dfc4</td>\n",
       "      <td>Buró de Crédito</td>\n",
       "      <td>gmail.com</td>\n",
       "      <td>19/01/21 9:20</td>\n",
       "      <td>ACTIVO</td>\n",
       "    </tr>\n",
       "    <tr>\n",
       "      <th>1</th>\n",
       "      <td>8d24ef1d52d8</td>\n",
       "      <td>Buró de Crédito</td>\n",
       "      <td>gmail.com</td>\n",
       "      <td>19/01/21 8:28</td>\n",
       "      <td>ACTIVO</td>\n",
       "    </tr>\n",
       "    <tr>\n",
       "      <th>2</th>\n",
       "      <td>a5120d2c47fa</td>\n",
       "      <td>Buró de Crédito</td>\n",
       "      <td>gmail.com</td>\n",
       "      <td>17/01/21 13:36</td>\n",
       "      <td>ACTIVO</td>\n",
       "    </tr>\n",
       "    <tr>\n",
       "      <th>3</th>\n",
       "      <td>5a5d70893606</td>\n",
       "      <td>Buró de Crédito</td>\n",
       "      <td>edubc.mx</td>\n",
       "      <td>20/01/21 9:27</td>\n",
       "      <td>ACTIVO</td>\n",
       "    </tr>\n",
       "    <tr>\n",
       "      <th>4</th>\n",
       "      <td>4a2082948031</td>\n",
       "      <td>Buró de Crédito</td>\n",
       "      <td>gmail.com</td>\n",
       "      <td>21/01/21 14:26</td>\n",
       "      <td>ACTIVO</td>\n",
       "    </tr>\n",
       "  </tbody>\n",
       "</table>\n",
       "</div>"
      ],
      "text/plain": [
       "     id_usuario     Calificadora     Correo  Fecha Consulta Estado usuario\n",
       "0  c2290d89dfc4  Buró de Crédito  gmail.com   19/01/21 9:20         ACTIVO\n",
       "1  8d24ef1d52d8  Buró de Crédito  gmail.com   19/01/21 8:28         ACTIVO\n",
       "2  a5120d2c47fa  Buró de Crédito  gmail.com  17/01/21 13:36         ACTIVO\n",
       "3  5a5d70893606  Buró de Crédito   edubc.mx   20/01/21 9:27         ACTIVO\n",
       "4  4a2082948031  Buró de Crédito  gmail.com  21/01/21 14:26         ACTIVO"
      ]
     },
     "execution_count": 33,
     "metadata": {},
     "output_type": "execute_result"
    }
   ],
   "source": [
    "df = pd.read_csv(r'C:\\Users\\Sebastian Hernandez\\Especializacion\\Semestre2\\Decisiones_incertidumbre\\practicas\\Actividad5\\datos_horas_conexion.csv',';')\n",
    "df.head()"
   ]
  },
  {
   "cell_type": "code",
   "execution_count": 34,
   "metadata": {
    "colab": {
     "base_uri": "https://localhost:8080/",
     "height": 164
    },
    "id": "z9sn-gOIhY6L",
    "outputId": "3becff2d-5076-4a3c-8db6-fcffe9c985e9"
   },
   "outputs": [
    {
     "data": {
      "text/html": [
       "<div>\n",
       "<style scoped>\n",
       "    .dataframe tbody tr th:only-of-type {\n",
       "        vertical-align: middle;\n",
       "    }\n",
       "\n",
       "    .dataframe tbody tr th {\n",
       "        vertical-align: top;\n",
       "    }\n",
       "\n",
       "    .dataframe thead th {\n",
       "        text-align: right;\n",
       "    }\n",
       "</style>\n",
       "<table border=\"1\" class=\"dataframe\">\n",
       "  <thead>\n",
       "    <tr style=\"text-align: right;\">\n",
       "      <th></th>\n",
       "      <th>id_usuario</th>\n",
       "      <th>Calificadora</th>\n",
       "      <th>Correo</th>\n",
       "      <th>Fecha Consulta</th>\n",
       "      <th>Estado usuario</th>\n",
       "    </tr>\n",
       "  </thead>\n",
       "  <tbody>\n",
       "    <tr>\n",
       "      <th>count</th>\n",
       "      <td>4022</td>\n",
       "      <td>4022</td>\n",
       "      <td>4003</td>\n",
       "      <td>4022</td>\n",
       "      <td>4003</td>\n",
       "    </tr>\n",
       "    <tr>\n",
       "      <th>unique</th>\n",
       "      <td>3681</td>\n",
       "      <td>1</td>\n",
       "      <td>93</td>\n",
       "      <td>3442</td>\n",
       "      <td>3</td>\n",
       "    </tr>\n",
       "    <tr>\n",
       "      <th>top</th>\n",
       "      <td>fdcc844fb3b0</td>\n",
       "      <td>Buró de Crédito</td>\n",
       "      <td>gmail.com</td>\n",
       "      <td>21/01/21 20:24</td>\n",
       "      <td>ACTIVO</td>\n",
       "    </tr>\n",
       "    <tr>\n",
       "      <th>freq</th>\n",
       "      <td>66</td>\n",
       "      <td>4022</td>\n",
       "      <td>2812</td>\n",
       "      <td>4</td>\n",
       "      <td>3602</td>\n",
       "    </tr>\n",
       "  </tbody>\n",
       "</table>\n",
       "</div>"
      ],
      "text/plain": [
       "          id_usuario     Calificadora     Correo  Fecha Consulta  \\\n",
       "count           4022             4022       4003            4022   \n",
       "unique          3681                1         93            3442   \n",
       "top     fdcc844fb3b0  Buró de Crédito  gmail.com  21/01/21 20:24   \n",
       "freq              66             4022       2812               4   \n",
       "\n",
       "       Estado usuario  \n",
       "count            4003  \n",
       "unique              3  \n",
       "top            ACTIVO  \n",
       "freq             3602  "
      ]
     },
     "execution_count": 34,
     "metadata": {},
     "output_type": "execute_result"
    }
   ],
   "source": [
    "df.describe()"
   ]
  },
  {
   "cell_type": "code",
   "execution_count": 35,
   "metadata": {
    "id": "WeJuNf4omZqL"
   },
   "outputs": [],
   "source": [
    "df.dropna(inplace=True)"
   ]
  },
  {
   "cell_type": "markdown",
   "metadata": {},
   "source": [
    "##### La columna 'Calificadora' es siempre igual y no aporta información "
   ]
  },
  {
   "cell_type": "code",
   "execution_count": 36,
   "metadata": {
    "colab": {
     "base_uri": "https://localhost:8080/"
    },
    "id": "8tRM5zgcm4N_",
    "outputId": "24a2afd6-762a-467d-c2c6-53543e8aeea8"
   },
   "outputs": [
    {
     "data": {
      "text/plain": [
       "Buró de Crédito    4003\n",
       "Name: Calificadora, dtype: int64"
      ]
     },
     "execution_count": 36,
     "metadata": {},
     "output_type": "execute_result"
    }
   ],
   "source": [
    "df['Calificadora'].value_counts()"
   ]
  },
  {
   "cell_type": "code",
   "execution_count": 37,
   "metadata": {
    "colab": {
     "base_uri": "https://localhost:8080/",
     "height": 283
    },
    "id": "P8DWUHG9mqij",
    "outputId": "f8cfea47-c41a-4b14-b480-31c7ecebd3a2"
   },
   "outputs": [
    {
     "data": {
      "text/plain": [
       "array(['Buró de Crédito'], dtype=object)"
      ]
     },
     "execution_count": 37,
     "metadata": {},
     "output_type": "execute_result"
    }
   ],
   "source": [
    "df['Calificadora'].unique()"
   ]
  },
  {
   "cell_type": "markdown",
   "metadata": {},
   "source": [
    "##### En la columna ' Correo' la gran mayoría son gmail y hotmail "
   ]
  },
  {
   "cell_type": "code",
   "execution_count": 38,
   "metadata": {
    "colab": {
     "base_uri": "https://localhost:8080/"
    },
    "id": "p8zRdDrNnQ7a",
    "outputId": "c0d28e8f-3c61-431b-dc10-da3ee5002841",
    "scrolled": false
   },
   "outputs": [
    {
     "data": {
      "text/plain": [
       "array(['gmail.com', 'edubc.mx', 'oitlook.com', 'hotmail.com',\n",
       "       'hotmail.es', 'outlook.com', 'gmail.comma', 'yahoo.com.mx',\n",
       "       'gmail.Com', 'me.com', 'live.com.mx', 'gmail.com.mx',\n",
       "       'ittepic.edu.mx', 'sohe95.com', 'multiva.com.mx', 'hotmai.com',\n",
       "       'avantservices.com.mx', 'icloud.com', 'yahoo.com', 'live.com',\n",
       "       'liverpool.com.mx', 'gmeil.com', 'GMAIL.COM', 'telefonica.com',\n",
       "       'msn.com', 'gmail.comlaura', 'outlook.con', 'outlook.es',\n",
       "       'hotmil.com', 'mail.ru', 'hormail.com', 'hotmail.comRICARDO',\n",
       "       'g2telecom.com.mx', 'hotmail.con', 'hotmail.com.mx', 'gmail.con',\n",
       "       'mail.com', 'mx.ey.com', 'saetowers.com.mx', '5675gmail.com',\n",
       "       'tec.mx', 'gmail.comsagrario', 'hotmaol.com', 'gotmail.com',\n",
       "       'yomax.com.mx', 'suramexico.com', 'g.conai.com', 'hitmail.com',\n",
       "       'g.mail.com.mx', 'exatec.tec.mx', 'jotmail.com', 'gitsmfg.com',\n",
       "       'sermatel.mx', 'prodigy.net.mx', 'outlook.coma', 'gmal.com',\n",
       "       'gmai.com', '13gmail.com', 'g.mai.com', 'bbva.com', 'gamil.com',\n",
       "       'madisa.com', 'GMAIL.com', '2473gmail.com',\n",
       "       'hutchinson-seal-mexico.com', 'gmail.coml', 'olxautos.com',\n",
       "       'gnail.com', 'gmil.com', 'osiux.ws', 'yansa.com.mx',\n",
       "       'aefcm.nuevaescuela.mx', 'hatmail.com', 'MSN.COM', 'gimail.com',\n",
       "       'HOTMAIL.COM', 'ymail.com', 'prodyaut.com', 'cfe.mx',\n",
       "       'Hotmail.com', 'gmail.co.com', 'guanajuato.gob.mzx', 'live.co.uk',\n",
       "       'riconsa.com', '232gmail.com', 'gmail.comcom', '1982gmail.com',\n",
       "       'hotmail.Com', 'gmaim.com', 'hot.mail.com', 'occidente.edu.mx',\n",
       "       'outlok.es', 'test.com'], dtype=object)"
      ]
     },
     "execution_count": 38,
     "metadata": {},
     "output_type": "execute_result"
    }
   ],
   "source": [
    "df['Correo'].unique() #Existen muchos registros escritos mal"
   ]
  },
  {
   "cell_type": "code",
   "execution_count": null,
   "metadata": {},
   "outputs": [],
   "source": [
    "#Se toman solo los registros repetidos mas de 5 veces para la gráfica\n",
    "x = df['Correo'].value_counts()\n",
    "x = x > 5\n",
    "y = df['Correo'].value_counts()[x]\n",
    "\n",
    "plt.figure(figsize=(18, 6), dpi=80)\n",
    "plt.bar(y.index,y)"
   ]
  },
  {
   "cell_type": "markdown",
   "metadata": {},
   "source": [
    "![](imagenes/Captura1.PNG)"
   ]
  },
  {
   "cell_type": "markdown",
   "metadata": {},
   "source": [
    "##### Para el análisis de la hora se dividio el campo de 'Fecha Consulta' en año, mes, día y hora y se dividió la hora en 6 grupos "
   ]
  },
  {
   "cell_type": "code",
   "execution_count": 40,
   "metadata": {
    "id": "wEaWJKrEk2XA"
   },
   "outputs": [],
   "source": [
    "from datetime import datetime\n",
    "\n",
    "\n",
    "df['Fecha Consulta'] = df['Fecha Consulta'].apply(lambda x: datetime.strptime(x, \"%d/%m/%y %H:%M\") )\n",
    "\n",
    "df['ano'] = df['Fecha Consulta'].apply(lambda x: x.year)\n",
    "df['mes'] = df['Fecha Consulta'].apply(lambda x: x.month)\n",
    "df['dia'] = df['Fecha Consulta'].apply(lambda x: x.day)\n",
    "\n",
    "df['hora'] = df['Fecha Consulta'].apply(lambda x: x.hour)"
   ]
  },
  {
   "cell_type": "code",
   "execution_count": 41,
   "metadata": {
    "colab": {
     "base_uri": "https://localhost:8080/",
     "height": 399
    },
    "id": "SSuB02wxy6v2",
    "outputId": "f2cd988f-2870-43ce-9810-bfbb5db488ea"
   },
   "outputs": [
    {
     "data": {
      "text/html": [
       "<div>\n",
       "<style scoped>\n",
       "    .dataframe tbody tr th:only-of-type {\n",
       "        vertical-align: middle;\n",
       "    }\n",
       "\n",
       "    .dataframe tbody tr th {\n",
       "        vertical-align: top;\n",
       "    }\n",
       "\n",
       "    .dataframe thead th {\n",
       "        text-align: right;\n",
       "    }\n",
       "</style>\n",
       "<table border=\"1\" class=\"dataframe\">\n",
       "  <thead>\n",
       "    <tr style=\"text-align: right;\">\n",
       "      <th></th>\n",
       "      <th>id_usuario</th>\n",
       "      <th>Calificadora</th>\n",
       "      <th>Correo</th>\n",
       "      <th>Fecha Consulta</th>\n",
       "      <th>Estado usuario</th>\n",
       "      <th>ano</th>\n",
       "      <th>mes</th>\n",
       "      <th>dia</th>\n",
       "      <th>hora</th>\n",
       "    </tr>\n",
       "  </thead>\n",
       "  <tbody>\n",
       "    <tr>\n",
       "      <th>0</th>\n",
       "      <td>c2290d89dfc4</td>\n",
       "      <td>Buró de Crédito</td>\n",
       "      <td>gmail.com</td>\n",
       "      <td>2021-01-19 09:20:00</td>\n",
       "      <td>ACTIVO</td>\n",
       "      <td>2021</td>\n",
       "      <td>1</td>\n",
       "      <td>19</td>\n",
       "      <td>9</td>\n",
       "    </tr>\n",
       "    <tr>\n",
       "      <th>1</th>\n",
       "      <td>8d24ef1d52d8</td>\n",
       "      <td>Buró de Crédito</td>\n",
       "      <td>gmail.com</td>\n",
       "      <td>2021-01-19 08:28:00</td>\n",
       "      <td>ACTIVO</td>\n",
       "      <td>2021</td>\n",
       "      <td>1</td>\n",
       "      <td>19</td>\n",
       "      <td>8</td>\n",
       "    </tr>\n",
       "    <tr>\n",
       "      <th>2</th>\n",
       "      <td>a5120d2c47fa</td>\n",
       "      <td>Buró de Crédito</td>\n",
       "      <td>gmail.com</td>\n",
       "      <td>2021-01-17 13:36:00</td>\n",
       "      <td>ACTIVO</td>\n",
       "      <td>2021</td>\n",
       "      <td>1</td>\n",
       "      <td>17</td>\n",
       "      <td>13</td>\n",
       "    </tr>\n",
       "    <tr>\n",
       "      <th>3</th>\n",
       "      <td>5a5d70893606</td>\n",
       "      <td>Buró de Crédito</td>\n",
       "      <td>edubc.mx</td>\n",
       "      <td>2021-01-20 09:27:00</td>\n",
       "      <td>ACTIVO</td>\n",
       "      <td>2021</td>\n",
       "      <td>1</td>\n",
       "      <td>20</td>\n",
       "      <td>9</td>\n",
       "    </tr>\n",
       "    <tr>\n",
       "      <th>4</th>\n",
       "      <td>4a2082948031</td>\n",
       "      <td>Buró de Crédito</td>\n",
       "      <td>gmail.com</td>\n",
       "      <td>2021-01-21 14:26:00</td>\n",
       "      <td>ACTIVO</td>\n",
       "      <td>2021</td>\n",
       "      <td>1</td>\n",
       "      <td>21</td>\n",
       "      <td>14</td>\n",
       "    </tr>\n",
       "    <tr>\n",
       "      <th>...</th>\n",
       "      <td>...</td>\n",
       "      <td>...</td>\n",
       "      <td>...</td>\n",
       "      <td>...</td>\n",
       "      <td>...</td>\n",
       "      <td>...</td>\n",
       "      <td>...</td>\n",
       "      <td>...</td>\n",
       "      <td>...</td>\n",
       "    </tr>\n",
       "    <tr>\n",
       "      <th>4017</th>\n",
       "      <td>a7b8edae9a16</td>\n",
       "      <td>Buró de Crédito</td>\n",
       "      <td>gmail.com</td>\n",
       "      <td>2021-01-06 11:10:00</td>\n",
       "      <td>SIN VALIDAR</td>\n",
       "      <td>2021</td>\n",
       "      <td>1</td>\n",
       "      <td>6</td>\n",
       "      <td>11</td>\n",
       "    </tr>\n",
       "    <tr>\n",
       "      <th>4018</th>\n",
       "      <td>4b636433f200</td>\n",
       "      <td>Buró de Crédito</td>\n",
       "      <td>gmail.com</td>\n",
       "      <td>2021-01-06 14:54:00</td>\n",
       "      <td>SIN VALIDAR</td>\n",
       "      <td>2021</td>\n",
       "      <td>1</td>\n",
       "      <td>6</td>\n",
       "      <td>14</td>\n",
       "    </tr>\n",
       "    <tr>\n",
       "      <th>4019</th>\n",
       "      <td>4b636433f200</td>\n",
       "      <td>Buró de Crédito</td>\n",
       "      <td>gmail.com</td>\n",
       "      <td>2021-01-06 23:43:00</td>\n",
       "      <td>SIN VALIDAR</td>\n",
       "      <td>2021</td>\n",
       "      <td>1</td>\n",
       "      <td>6</td>\n",
       "      <td>23</td>\n",
       "    </tr>\n",
       "    <tr>\n",
       "      <th>4020</th>\n",
       "      <td>a7b8edae9a16</td>\n",
       "      <td>Buró de Crédito</td>\n",
       "      <td>gmail.com</td>\n",
       "      <td>2021-01-06 21:21:00</td>\n",
       "      <td>SIN VALIDAR</td>\n",
       "      <td>2021</td>\n",
       "      <td>1</td>\n",
       "      <td>6</td>\n",
       "      <td>21</td>\n",
       "    </tr>\n",
       "    <tr>\n",
       "      <th>4021</th>\n",
       "      <td>c5730eda6be5</td>\n",
       "      <td>Buró de Crédito</td>\n",
       "      <td>gmail.com</td>\n",
       "      <td>2021-01-17 20:59:00</td>\n",
       "      <td>SIN VALIDAR</td>\n",
       "      <td>2021</td>\n",
       "      <td>1</td>\n",
       "      <td>17</td>\n",
       "      <td>20</td>\n",
       "    </tr>\n",
       "  </tbody>\n",
       "</table>\n",
       "<p>4003 rows × 9 columns</p>\n",
       "</div>"
      ],
      "text/plain": [
       "        id_usuario     Calificadora     Correo      Fecha Consulta  \\\n",
       "0     c2290d89dfc4  Buró de Crédito  gmail.com 2021-01-19 09:20:00   \n",
       "1     8d24ef1d52d8  Buró de Crédito  gmail.com 2021-01-19 08:28:00   \n",
       "2     a5120d2c47fa  Buró de Crédito  gmail.com 2021-01-17 13:36:00   \n",
       "3     5a5d70893606  Buró de Crédito   edubc.mx 2021-01-20 09:27:00   \n",
       "4     4a2082948031  Buró de Crédito  gmail.com 2021-01-21 14:26:00   \n",
       "...            ...              ...        ...                 ...   \n",
       "4017  a7b8edae9a16  Buró de Crédito  gmail.com 2021-01-06 11:10:00   \n",
       "4018  4b636433f200  Buró de Crédito  gmail.com 2021-01-06 14:54:00   \n",
       "4019  4b636433f200  Buró de Crédito  gmail.com 2021-01-06 23:43:00   \n",
       "4020  a7b8edae9a16  Buró de Crédito  gmail.com 2021-01-06 21:21:00   \n",
       "4021  c5730eda6be5  Buró de Crédito  gmail.com 2021-01-17 20:59:00   \n",
       "\n",
       "     Estado usuario   ano  mes  dia  hora  \n",
       "0            ACTIVO  2021    1   19     9  \n",
       "1            ACTIVO  2021    1   19     8  \n",
       "2            ACTIVO  2021    1   17    13  \n",
       "3            ACTIVO  2021    1   20     9  \n",
       "4            ACTIVO  2021    1   21    14  \n",
       "...             ...   ...  ...  ...   ...  \n",
       "4017    SIN VALIDAR  2021    1    6    11  \n",
       "4018    SIN VALIDAR  2021    1    6    14  \n",
       "4019    SIN VALIDAR  2021    1    6    23  \n",
       "4020    SIN VALIDAR  2021    1    6    21  \n",
       "4021    SIN VALIDAR  2021    1   17    20  \n",
       "\n",
       "[4003 rows x 9 columns]"
      ]
     },
     "execution_count": 41,
     "metadata": {},
     "output_type": "execute_result"
    }
   ],
   "source": [
    "df"
   ]
  },
  {
   "cell_type": "code",
   "execution_count": 44,
   "metadata": {
    "id": "dRrkHim2wqWP"
   },
   "outputs": [],
   "source": [
    "df['hora1'] = df['hora'].apply(lambda x : '0-4' if ( 0 <= x < 4) else ( '4-8' if ( 4 <= x < 8) else ('8-12' if (8 <= x <12) else ('12-16' if (12 <= x < 16) else('16-20' if (16 <= x <20) else ('20-24'))))))"
   ]
  },
  {
   "cell_type": "code",
   "execution_count": 50,
   "metadata": {},
   "outputs": [],
   "source": [
    "df['hora1'] = df['hora'].apply(lambda x : '0-2' if ( 0 <= x < 2) else ( '2-4' if ( 2 <= x < 4) else ('4-6' if (4 <= x <6) else ('6-8' if (6 <= x < 8) else('8-10' if (8 <= x <10) else('10-12' if(10 <= x < 12) else('12-14' if(12 <= x < 14) else('14-16' if(14 <=x < 16) else('16-18' if(16<=x<18) else('18-20' if(18<=x<20) else('20-22' if(20<=x<22) else('22-24')) )))) ) )))))"
   ]
  },
  {
   "cell_type": "code",
   "execution_count": 51,
   "metadata": {
    "colab": {
     "base_uri": "https://localhost:8080/"
    },
    "id": "OWc4GSVLDk3g",
    "outputId": "25109d45-7112-45e1-ae08-05e5608a6ed5"
   },
   "outputs": [
    {
     "data": {
      "text/plain": [
       "array(['8-10', '12-14', '14-16', '16-18', '22-24', '10-12', '2-4',\n",
       "       '18-20', '20-22', '0-2', '6-8', '4-6'], dtype=object)"
      ]
     },
     "execution_count": 51,
     "metadata": {},
     "output_type": "execute_result"
    }
   ],
   "source": [
    "df['hora1'].unique()"
   ]
  },
  {
   "cell_type": "code",
   "execution_count": null,
   "metadata": {},
   "outputs": [],
   "source": [
    "#GRÁFICA PARA CONOCER LA DISTRIBUCIÓN DE HORAS \n",
    "df.groupby(['hora1'])['Estado usuario'].value_counts().unstack(0).plot.bar(figsize=(18,6))\n",
    "#df.groupby('year').case_status.value_counts().unstack(0).plot.barh()"
   ]
  },
  {
   "cell_type": "markdown",
   "metadata": {},
   "source": [
    "![](imagenes/Captura2.PNG)"
   ]
  },
  {
   "cell_type": "code",
   "execution_count": null,
   "metadata": {
    "colab": {
     "base_uri": "https://localhost:8080/"
    },
    "id": "5FSinAQhD5C5",
    "outputId": "efb65620-6fc6-465e-dade-cb8e88a7f6a5"
   },
   "outputs": [
    {
     "data": {
      "text/plain": [
       "Estado usuario\n",
       "ACTIVO         3602\n",
       "DESACTIVADO      67\n",
       "SIN VALIDAR     334\n",
       "Name: hora, dtype: int64"
      ]
     },
     "execution_count": 54,
     "metadata": {
      "tags": []
     },
     "output_type": "execute_result"
    }
   ],
   "source": [
    "\n",
    "df['hora'] = df['hora1']\n",
    "\n",
    "df_ = df.groupby('Estado usuario')['hora'].count()\n",
    "df_"
   ]
  },
  {
   "cell_type": "markdown",
   "metadata": {
    "id": "Cq84vzqoCU79"
   },
   "source": [
    "##### De la última gráfica se ve que la mayor cantidad de usuarios que estan activos hicieron su consulta en las horas de la noche, de las 20 a las 24 horas. Dado que las otras columnas de la data no tienen mucha varianza y, por lo tanto no ofrecen información relevante, se considera que solo con el análisis de la hora de consulta se puede responder a la pregunta planteada: se recomienda configurar las horas de la pauta digital para el rango entre las 16 y las 24 horas"
   ]
  },
  {
   "cell_type": "code",
   "execution_count": null,
   "metadata": {},
   "outputs": [],
   "source": []
  }
 ],
 "metadata": {
  "colab": {
   "collapsed_sections": [],
   "name": "Untitled9.ipynb",
   "provenance": []
  },
  "kernelspec": {
   "display_name": "Python 3",
   "language": "python",
   "name": "python3"
  },
  "language_info": {
   "codemirror_mode": {
    "name": "ipython",
    "version": 3
   },
   "file_extension": ".py",
   "mimetype": "text/x-python",
   "name": "python",
   "nbconvert_exporter": "python",
   "pygments_lexer": "ipython3",
   "version": "3.8.3"
  }
 },
 "nbformat": 4,
 "nbformat_minor": 1
}
